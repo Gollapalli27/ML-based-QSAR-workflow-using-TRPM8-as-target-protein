{
 "cells": [
  {
   "cell_type": "markdown",
   "id": "c2397dbb-c035-451a-a8d7-a516e8baad98",
   "metadata": {},
   "source": [
    "Getting physico chemical descriptors\n",
    "This notebook gets physicochemical descriptors using Descriptors"
   ]
  },
  {
   "cell_type": "code",
   "execution_count": 4,
   "id": "da04d4ab-8aa1-4404-b7bc-8bfb0a6d00e2",
   "metadata": {},
   "outputs": [],
   "source": [
    "import pandas as pd\n",
    "import rdkit\n",
    "from rdkit import Chem\n",
    "from rdkit.Chem import Descriptors\n",
    "from sklearn.preprocessing import StandardScaler"
   ]
  },
  {
   "cell_type": "code",
   "execution_count": 2,
   "id": "7273b5e8-f0f1-4256-9e70-69490795db58",
   "metadata": {},
   "outputs": [],
   "source": [
    "#load preprocessed data\n",
    "input_file = '../1_preprocess/TRPM8-homosapien-compounds-activities-processed.csv'\n",
    "df = pd.read_csv(input_file)\n",
    "\n",
    "#Function to calculate physicochemical descriptors\n",
    "def calculate_physicochemical_descriptors(smiles):\n",
    "    mol = Chem.MolFromSmiles(smiles)  #transform smiles to molecular representation\n",
    "\n",
    "    descriptors = {}\n",
    "    descriptors['mw']=Descriptors.MolWt(mol)\n",
    "    descriptors['mw_H']=Descriptors.HeavyAtomMolWt(mol)\n",
    "    descriptors['qed']=Descriptors.qed(mol)\n",
    "    descriptors['max_charge']=Descriptors.MaxPartialCharge(mol)\n",
    "    descriptors['min_charge']=Descriptors.MinPartialCharge(mol)\n",
    "    descriptors['max_abs_charge']=Descriptors.MaxAbsPartialCharge(mol)\n",
    "    descriptors['min_abs_charge']=Descriptors.MinAbsPartialCharge(mol)\n",
    "    descriptors['aliphaticCarbocycles']=Descriptors.NumAliphaticCarbocycles(mol)\n",
    "    descriptors['aliphaticHeterocycles']=Descriptors.NumAliphaticHeterocycles(mol)\n",
    "    descriptors['aliphaticRings']=Descriptors.NumAliphaticRings(mol)\n",
    "    descriptors['aromaticCarbocycles']=Descriptors.NumAromaticCarbocycles(mol)\n",
    "    descriptors['aromaticHeterocycles']=Descriptors.NumAromaticHeterocycles(mol)\n",
    "    descriptors['aromaticRings']=Descriptors.NumAromaticRings(mol)\n",
    "    descriptors['HAcceptors']=Descriptors.NumHAcceptors(mol)\n",
    "    descriptors['HDonors']=Descriptors.NumHDonors(mol)\n",
    "    descriptors['heteroatoms']=Descriptors.NumHeteroatoms(mol)\n",
    "    descriptors['rotatableBonds']=Descriptors.NumRotatableBonds(mol)\n",
    "    descriptors['saturatedCarbocycles']=Descriptors.NumSaturatedCarbocycles(mol)\n",
    "    descriptors['saturatedHeterocycles']=Descriptors.NumSaturatedHeterocycles(mol)\n",
    "    descriptors['satureatedRings']=Descriptors.NumSaturatedRings(mol)\n",
    "    descriptors['ringCount']=Descriptors.RingCount(mol)\n",
    "    descriptors['molLogP']=Descriptors.MolLogP(mol)\n",
    "    descriptors['molMR']=Descriptors.MolMR(mol)\n",
    "    \n",
    "    return descriptors\n",
    "\n",
    "\n",
    "\n",
    "# Apply descriptor calculation to each molecule\n",
    "descriptor_list = df['Smiles'].apply(calculate_physicochemical_descriptors)\n",
    "\n",
    "# Convert the list of descriptor dictionaries to a DataFrame\n",
    "descriptor_df = pd.DataFrame(descriptor_list.tolist())\n",
    "\n",
    "# Concatenate the original dataframe with the descriptor dataframe\n",
    "result_df = pd.concat([df[['Molecule ChEMBL ID']], descriptor_df], axis=1)\n",
    "# Save the results to a new CSV\n",
    "output_file = 'physicochemical-descriptors.csv'\n",
    "result_df.to_csv(output_file, index=False)"
   ]
  },
  {
   "cell_type": "code",
   "execution_count": 6,
   "id": "07150042-9cde-4f0d-ac27-8d599176b7e9",
   "metadata": {},
   "outputs": [],
   "source": [
    "# Identify and exclude list-based columns\n",
    "scalar_columns = [col for col in result_df.columns if 'Molecule ChEMBL ID' not in col \n",
    "                                                             and not isinstance(result_df[col].iloc[0], list)]\n",
    "\n",
    "# Apply StandardScaler to scalar descriptors\n",
    "scaler = StandardScaler()\n",
    "result_df[scalar_columns] = scaler.fit_transform(result_df[scalar_columns])\n",
    "\n",
    "# Output the scaled dataframe\n",
    "result_df.to_csv('physicochemical-descriptors-standardized.csv')"
   ]
  },
  {
   "cell_type": "code",
   "execution_count": null,
   "id": "84f83669-2ccc-4a47-8b46-70d719269d7e",
   "metadata": {},
   "outputs": [],
   "source": []
  }
 ],
 "metadata": {
  "kernelspec": {
   "display_name": "Python 3 (ipykernel)",
   "language": "python",
   "name": "python3"
  },
  "language_info": {
   "codemirror_mode": {
    "name": "ipython",
    "version": 3
   },
   "file_extension": ".py",
   "mimetype": "text/x-python",
   "name": "python",
   "nbconvert_exporter": "python",
   "pygments_lexer": "ipython3",
   "version": "3.10.8"
  }
 },
 "nbformat": 4,
 "nbformat_minor": 5
}
