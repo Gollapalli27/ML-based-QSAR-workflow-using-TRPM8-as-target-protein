{
 "cells": [
  {
   "cell_type": "markdown",
   "id": "ffa6f410-e493-420a-ba09-9e588bbfcb39",
   "metadata": {},
   "source": [
    "# Getting 3D descriptors"
   ]
  },
  {
   "attachments": {},
   "cell_type": "markdown",
   "id": "7b4339a1-6b78-4c2f-afd1-ad1305b01796",
   "metadata": {},
   "source": [
    "This notebook gets 3D molecular descriptors using both rdMolDescriptors (https://www.rdkit.org/docs/source/rdkit.Chem.rdMolDescriptors.html) and Descriptors3D (https://www.rdkit.org/docs/source/rdkit.Chem.Descriptors3D.html)"
   ]
  },
  {
   "cell_type": "code",
   "execution_count": 1,
   "id": "3d513a26-ec99-4603-91d5-d466ff627df6",
   "metadata": {},
   "outputs": [],
   "source": [
    "from rdkit import Chem\n",
    "from rdkit.Chem import AllChem\n",
    "from rdkit.Chem import Descriptors3D\n",
    "from rdkit.Chem import rdMolDescriptors\n",
    "\n",
    "from sklearn.preprocessing import StandardScaler\n",
    "import pandas as pd"
   ]
  },
  {
   "cell_type": "markdown",
   "id": "a333afa0-7cc9-40b6-92cd-1f19ad505caf",
   "metadata": {},
   "source": [
    "## Create 3D Descriptors"
   ]
  },
  {
   "cell_type": "code",
   "execution_count": 2,
   "id": "458f01c1-226b-4ac2-9254-6f82d8c41e65",
   "metadata": {
    "scrolled": true
   },
   "outputs": [],
   "source": [
    "#Load preprocessed data\n",
    "input_file = '../1_preprocess/TRPM8-homosapien-compounds-activities-processed.csv'\n",
    "df = pd.read_csv(input_file)\n",
    "\n",
    "#Function to calculate all required 3D descriptors\n",
    "def calculate_3d_descriptors(smiles):\n",
    "    mol = Chem.MolFromSmiles(smiles) #transform smiles to molecular representation\n",
    "\n",
    "    # Add hydrogens and generate 3D conformers\n",
    "    mol = Chem.AddHs(mol)\n",
    "    AllChem.EmbedMolecule(mol, AllChem.ETKDG())\n",
    "    AllChem.MMFFOptimizeMolecule(mol)\n",
    "    \n",
    "    descriptors = {}\n",
    "    # 3D descriptors from Descriptors3D module\n",
    "    descriptors['PMI1'] = Descriptors3D.PMI1(mol)\n",
    "    descriptors['PMI2'] = Descriptors3D.PMI2(mol)\n",
    "    descriptors['PMI3'] = Descriptors3D.PMI3(mol)\n",
    "    descriptors['Asphericity'] = Descriptors3D.Asphericity(mol)\n",
    "    descriptors['Eccentricity'] = Descriptors3D.Eccentricity(mol)\n",
    "    descriptors['InertialShapeFactor'] = Descriptors3D.InertialShapeFactor(mol)\n",
    "    descriptors['NPR1'] = Descriptors3D.NPR1(mol)\n",
    "    descriptors['NPR2'] = Descriptors3D.NPR2(mol)\n",
    "    descriptors['PBF'] = Descriptors3D.PBF(mol)\n",
    "    descriptors['RadiusOfGyration'] = Descriptors3D.RadiusOfGyration(mol)\n",
    "    descriptors['SpherocityIndex'] = Descriptors3D.SpherocityIndex(mol)\n",
    "\n",
    "    # Additional 3D descriptors from rdMolDescriptors module\n",
    "    descriptors['AUTOCORR3D'] = rdMolDescriptors.CalcAUTOCORR3D(mol)\n",
    "    #descriptors['CoulombMat'] = rdMolDescriptors.CalcCoulombMat(mol)\n",
    "    #descriptors['EEMcharges'] = rdMolDescriptors.CalcEEMcharges(mol)\n",
    "    descriptors['GETAWAY'] = rdMolDescriptors.CalcGETAWAY(mol)\n",
    "    descriptors['LabuteASA'] = rdMolDescriptors.CalcLabuteASA(mol)\n",
    "    descriptors['MORSE'] = rdMolDescriptors.CalcMORSE(mol)\n",
    "    descriptors['RDF'] = rdMolDescriptors.CalcRDF(mol)\n",
    "    descriptors['WHIM'] = rdMolDescriptors.CalcWHIM(mol)\n",
    "    descriptors['DoubleCubicLatticeVolume'] = rdMolDescriptors.DoubleCubicLatticeVolume(mol).GetVolume()\n",
    "    descriptors['DoubleCubicLatticeSurfaceArea'] = rdMolDescriptors.DoubleCubicLatticeVolume(mol).GetSurfaceArea()\n",
    "    descriptors['DoubleCubicLatticeVDWVolume'] = rdMolDescriptors.DoubleCubicLatticeVolume(mol).GetVDWVolume()\n",
    "    descriptors['DoubleCubicLatticePackingDensity'] = rdMolDescriptors.DoubleCubicLatticeVolume(mol).GetPackingDensity()\n",
    "\n",
    "    return descriptors\n",
    "\n",
    "# Apply descriptor calculation to each molecule\n",
    "descriptor_list = df['Smiles'].apply(calculate_3d_descriptors)\n",
    "\n",
    "# Convert the list of descriptor dictionaries to a DataFrame\n",
    "descriptor_df = pd.DataFrame(descriptor_list.tolist())\n",
    "\n",
    "# Concatenate the original dataframe with the descriptor dataframe\n",
    "result_df = pd.concat([df[['Molecule ChEMBL ID']], descriptor_df], axis=1)\n"
   ]
  },
  {
   "cell_type": "markdown",
   "id": "ac9751e6-c0b5-4251-bdcf-9fc541a489f0",
   "metadata": {},
   "source": [
    "## Process descriptors in list or matrix format"
   ]
  },
  {
   "cell_type": "code",
   "execution_count": 3,
   "id": "1a3c227f-5f67-4556-baa9-11687670df81",
   "metadata": {},
   "outputs": [],
   "source": [
    "### 'GETAWAY', 'WHIM', 'MORSE', 'RDF', and 'AUTOCORR3D' all return lists of descriptors. Need to split into separate columns\n",
    "\n",
    "#Function to split descriptor lists into individual columns\n",
    "def split_descriptor_columns(df, descriptor_name):\n",
    "    cols = [f'{descriptor_name}_{i}' for i in range(len(df.iloc[0][descriptor_name]))]  # Create column names\n",
    "    descriptor_split = pd.DataFrame(df[descriptor_name].to_list(), columns=cols)  # Split list into columns\n",
    "    return pd.concat([df, descriptor_split], axis=1)  # Concatenate with the original dataframe\n",
    "\n",
    "result_processed_df = split_descriptor_columns(result_df, 'GETAWAY') #Process GETAWAY, returns 273 descriptors\n",
    "result_processed_df = split_descriptor_columns(result_processed_df, 'WHIM') #Process WHIM, returns 114 descriptors\n",
    "result_processed_df = split_descriptor_columns(result_processed_df, 'MORSE') #Process MORSE, returns 224 descriptors\n",
    "result_processed_df = split_descriptor_columns(result_processed_df, 'RDF') #Process RDF, returns 210 descriptors\n",
    "result_processed_df = split_descriptor_columns(result_processed_df, 'AUTOCORR3D') #Process AUTOCORR3D, returns 80 descriptors\n",
    "\n",
    "# Drop the original columns after splitting\n",
    "result_processed_df.drop(columns=['GETAWAY', 'WHIM', 'MORSE', 'RDF', 'AUTOCORR3D'], inplace=True)\n",
    "\n",
    "# Save the results to a new CSV\n",
    "output_file = '3D-descriptors.csv'\n",
    "result_processed_df.to_csv(output_file, index=False)"
   ]
  },
  {
   "cell_type": "markdown",
   "id": "eed93ef7-586e-48cf-bb37-02e7d8d21994",
   "metadata": {},
   "source": [
    "## Standardize the descriptors"
   ]
  },
  {
   "cell_type": "code",
   "execution_count": 4,
   "id": "ea883abe-da14-4c08-9b2d-faad93cfba21",
   "metadata": {},
   "outputs": [],
   "source": [
    "# Identify and exclude list-based columns\n",
    "result_scaled_df = result_processed_df.copy()\n",
    "scalar_columns = [col for col in result_scaled_df.columns if 'Molecule ChEMBL ID' not in col \n",
    "                                                             and not isinstance(result_scaled_df[col].iloc[0], list)]\n",
    "\n",
    "# Apply StandardScaler to scalar descriptors\n",
    "scaler = StandardScaler()\n",
    "result_scaled_df[scalar_columns] = scaler.fit_transform(result_scaled_df[scalar_columns])\n",
    "\n",
    "# Output the scaled dataframe\n",
    "result_scaled_df.head()\n",
    "output_file = '3D-descriptors-standardized.csv'\n",
    "result_scaled_df.to_csv(output_file, index=False)"
   ]
  }
 ],
 "metadata": {
  "kernelspec": {
   "display_name": "Python 3 (ipykernel)",
   "language": "python",
   "name": "python3"
  },
  "language_info": {
   "codemirror_mode": {
    "name": "ipython",
    "version": 3
   },
   "file_extension": ".py",
   "mimetype": "text/x-python",
   "name": "python",
   "nbconvert_exporter": "python",
   "pygments_lexer": "ipython3",
   "version": "3.10.8"
  }
 },
 "nbformat": 4,
 "nbformat_minor": 5
}
