{
 "cells": [
  {
   "cell_type": "code",
   "execution_count": 5,
   "metadata": {},
   "outputs": [],
   "source": [
    "import pandas as pd\n",
    "import numpy as np"
   ]
  },
  {
   "cell_type": "code",
   "execution_count": 12,
   "metadata": {},
   "outputs": [
    {
     "name": "stdout",
     "output_type": "stream",
     "text": [
      "       ChEMBL ID Name Synonyms            Type  Max Phase  Molecular Weight  \\\n",
      "0  CHEMBL3985375  NaN      NaN  Small molecule        NaN            420.49   \n",
      "1  CHEMBL3956363  NaN      NaN  Small molecule        NaN            495.41   \n",
      "2  CHEMBL3927494  NaN      NaN  Small molecule        NaN            512.90   \n",
      "3  CHEMBL3353594  NaN      NaN  Small molecule        NaN            538.85   \n",
      "4  CHEMBL3353603  NaN      NaN  Small molecule        NaN            535.93   \n",
      "\n",
      "   Targets  Bioactivities  AlogP  Polar Surface Area  ...  \\\n",
      "0        5              5   2.85               85.99  ...   \n",
      "1        5              5   4.22               85.99  ...   \n",
      "2        5              5   4.12               99.13  ...   \n",
      "3        2              2   5.87               87.57  ...   \n",
      "4        2              2   5.40              111.36  ...   \n",
      "\n",
      "   #RO5 Violations (Lipinski)  Molecular Weight (Monoisotopic)  \\\n",
      "0                         0.0                         420.1256   \n",
      "1                         0.0                         494.0041   \n",
      "2                         1.0                         512.0533   \n",
      "3                         2.0                         538.0189   \n",
      "4                         2.0                         535.0580   \n",
      "\n",
      "   Np Likeness Score  Molecular Species Molecular Formula  \\\n",
      "0              -1.76            NEUTRAL       C22H20N4O3S   \n",
      "1              -2.06            NEUTRAL   C20H16Cl2N4O3S2   \n",
      "2              -1.68            NEUTRAL   C21H16ClF3N4O4S   \n",
      "3              -1.44               ACID   C21H13ClF6N2O4S   \n",
      "4              -1.42               ACID   C24H17ClF3N3O4S   \n",
      "\n",
      "                                              Smiles  \\\n",
      "0  Cc1ccc(-c2csc(NC(=O)Cc3cccc4c3c(=O)n(C)c(=O)n4...   \n",
      "1  Cc1sc2c(c1CC(=O)Nc1nc(-c3ccc(Cl)c(Cl)c3)cs1)c(...   \n",
      "2  Cc1oc2c(c1CC(=O)Nc1nc(-c3ccc(Cl)c(C(F)(F)F)c3)...   \n",
      "3  O=C(O)c1ccc(S(=O)(=O)N(Cc2ccc(C(F)(F)F)cc2)c2n...   \n",
      "4  N#CC1(c2ccc(CN(c3ncc(C(F)(F)F)cc3Cl)S(=O)(=O)c...   \n",
      "\n",
      "                     Inchi Key  \\\n",
      "0  NNNQVSUPWVEWSZ-UHFFFAOYSA-N   \n",
      "1  QSBZGESBJYBOBP-UHFFFAOYSA-N   \n",
      "2  DJDKJQHFJXTIKP-UHFFFAOYSA-N   \n",
      "3  TUOBMHOSEHCCIS-UHFFFAOYSA-N   \n",
      "4  SNTSFXKELXMDNB-UHFFFAOYSA-N   \n",
      "\n",
      "                                               Inchi  Withdrawn Flag  Orphan  \n",
      "0  InChI=1S/C22H20N4O3S/c1-13-7-9-14(10-8-13)16-1...           False      -1  \n",
      "1  InChI=1S/C20H16Cl2N4O3S2/c1-9-11(16-17(28)25(2...           False      -1  \n",
      "2  InChI=1S/C21H16ClF3N4O4S/c1-9-11(16-17(31)28(2...           False      -1  \n",
      "3  InChI=1S/C21H13ClF6N2O4S/c22-17-9-15(21(26,27)...           False      -1  \n",
      "4  InChI=1S/C24H17ClF3N3O4S/c25-20-11-18(24(26,27...           False      -1  \n",
      "\n",
      "[5 rows x 36 columns]\n"
     ]
    }
   ],
   "source": [
    "df = pd.read_csv(\"TRPM8-compounds-all.csv\", sep=';')\n",
    "print(df.head())"
   ]
  }
 ],
 "metadata": {
  "kernelspec": {
   "display_name": "base",
   "language": "python",
   "name": "python3"
  },
  "language_info": {
   "codemirror_mode": {
    "name": "ipython",
    "version": 3
   },
   "file_extension": ".py",
   "mimetype": "text/x-python",
   "name": "python",
   "nbconvert_exporter": "python",
   "pygments_lexer": "ipython3",
   "version": "3.12.4"
  }
 },
 "nbformat": 4,
 "nbformat_minor": 2
}
