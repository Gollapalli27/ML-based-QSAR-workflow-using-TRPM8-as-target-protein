{
 "cells": [
  {
   "cell_type": "code",
   "execution_count": 2,
   "metadata": {},
   "outputs": [],
   "source": [
    "import pandas as pd\n",
    "import numpy as np\n",
    "from rdkit import Chem"
   ]
  },
  {
   "cell_type": "code",
   "execution_count": 11,
   "metadata": {},
   "outputs": [
    {
     "name": "stdout",
     "output_type": "stream",
     "text": [
      "  Molecule ChEMBL ID  Molecular Weight  #RO5 Violations  AlogP Compound Key  \\\n",
      "0      CHEMBL3235962            421.42              1.0   5.76           22   \n",
      "1      CHEMBL3235983            434.36              1.0   5.45           44   \n",
      "2      CHEMBL1650511            467.41              1.0   7.09            5   \n",
      "3      CHEMBL2443068            438.83              1.0   5.39           9b   \n",
      "4      CHEMBL3959823            358.44              0.0   3.86           9n   \n",
      "\n",
      "                                              Smiles Standard Type  \\\n",
      "0  N#Cc1cccc(NC(=O)N2CCc3ccccc3[C@H]2c2ccc(C(F)(F...          IC50   \n",
      "1  C[C@H](NC(=O)N1CCc2ccccc2[C@H]1c1ccc(C(F)(F)F)...          IC50   \n",
      "2  FC(F)(F)c1ccccc1-c1cc(C(F)(F)F)c2[nH]c(C3=NOC4...          IC50   \n",
      "3  O=C1CC2(CCN(C(=O)Nc3ccc(C(F)(F)F)cc3)CC2)Oc2c(...          IC50   \n",
      "4  Cc1cccc(CN(C(=O)c2ccccc2)[C@@H](C(N)=O)c2ccccc...          IC50   \n",
      "\n",
      "   Standard Value Standard Units  pChEMBL Value  ...  Action Type  \\\n",
      "0          83.000             nM           7.08  ...          NaN   \n",
      "1          10.000             nM           8.00  ...          NaN   \n",
      "2           0.413             nM           9.38  ...          NaN   \n",
      "3         230.400             nM           6.64  ...          NaN   \n",
      "4         870.000             nM           6.06  ...          NaN   \n",
      "\n",
      "                                               InChI       Potency  \\\n",
      "0  InChI=1S/C24H18F3N3O/c25-24(26,27)19-10-8-18(9...  High Potency   \n",
      "1  InChI=1S/C20H17F7N2O/c1-11(19(22,23)24)28-18(3...  High Potency   \n",
      "2  InChI=1S/C23H19F6N3O/c24-22(25,26)15-7-3-2-6-1...  High Potency   \n",
      "3  InChI=1S/C21H18ClF3N2O3/c22-16-3-1-2-15-17(28)...  High Potency   \n",
      "4  InChI=1S/C23H22N2O2/c1-17-9-8-10-18(15-17)16-2...  High Potency   \n",
      "\n",
      "   Molecular Weight_standardized  AlogP_standardized  \\\n",
      "0                      -0.309321            0.767358   \n",
      "1                      -0.172629            0.532451   \n",
      "2                       0.176496            1.775186   \n",
      "3                      -0.125410            0.486986   \n",
      "4                      -0.974612           -0.672395   \n",
      "\n",
      "  Standard Value_standardized pChEMBL Value_standardized  \\\n",
      "0                   -0.364079                   0.101789   \n",
      "1                   -0.368572                   0.899639   \n",
      "2                   -0.369162                   2.096415   \n",
      "3                   -0.355008                  -0.279792   \n",
      "4                   -0.315645                  -0.782785   \n",
      "\n",
      "  Ligand Efficiency LE_standardized  Ligand Efficiency LLE_standardized  \\\n",
      "0                         -0.048144                           -0.565826   \n",
      "1                          0.703022                            0.525241   \n",
      "2                          1.153721                            0.294609   \n",
      "3                         -0.198377                           -0.627919   \n",
      "4                         -0.048144                            0.214775   \n",
      "\n",
      "   Ligand Efficiency SEI_standardized  \n",
      "0                            0.681188  \n",
      "1                            3.859073  \n",
      "2                            2.267508  \n",
      "3                            0.340326  \n",
      "4                           -0.121149  \n",
      "\n",
      "[5 rows x 25 columns]\n"
     ]
    }
   ],
   "source": [
    "df = pd.read_csv(\"TRPM8-processed-2.csv\")\n",
    "print(df.head())"
   ]
  },
  {
   "cell_type": "code",
   "execution_count": 28,
   "metadata": {},
   "outputs": [],
   "source": [
    "column_names = df.columns\n",
    "smiles_column = df[\"Smiles\"]\n",
    "smiles_column[0]\n",
    "test = \"Cc1ccccc1\""
   ]
  },
  {
   "cell_type": "code",
   "execution_count": 42,
   "metadata": {},
   "outputs": [],
   "source": [
    "from rdkit.Chem import Descriptors"
   ]
  },
  {
   "cell_type": "code",
   "execution_count": 43,
   "metadata": {},
   "outputs": [
    {
     "data": {
      "text/plain": [
       "56.13"
      ]
     },
     "execution_count": 43,
     "metadata": {},
     "output_type": "execute_result"
    }
   ],
   "source": [
    "m = Chem.MolFromSmiles(smiles_column[0])\n",
    "Descriptors.TPSA(m)"
   ]
  }
 ],
 "metadata": {
  "kernelspec": {
   "display_name": "base",
   "language": "python",
   "name": "python3"
  },
  "language_info": {
   "codemirror_mode": {
    "name": "ipython",
    "version": 3
   },
   "file_extension": ".py",
   "mimetype": "text/x-python",
   "name": "python",
   "nbconvert_exporter": "python",
   "pygments_lexer": "ipython3",
   "version": "3.12.2"
  }
 },
 "nbformat": 4,
 "nbformat_minor": 2
}
